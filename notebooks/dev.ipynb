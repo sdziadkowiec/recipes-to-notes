{
 "cells": [
  {
   "cell_type": "code",
   "execution_count": 1,
   "id": "0f15a884",
   "metadata": {},
   "outputs": [],
   "source": [
    "from dotenv import load_dotenv\n",
    "from recipes_to_notes.runner import RecipeToNote\n",
    "from recipes_to_notes.plugins.scraping.spider import SpiderScraper\n",
    "from recipes_to_notes.plugins.schema_extraction.azure_openai import AzureOpenAI\n",
    "from recipes_to_notes.plugins.notes.notion import NotionNotesApp\n",
    "import os\n",
    "\n",
    "load_dotenv()\n",
    "\n",
    "spider_config = {\n",
    "    \"request\": \"smart\",\n",
    "    \"return_format\": \"markdown\",\n",
    "    \"readability\": True,\n",
    "    \"metadata\": True,\n",
    "}\n",
    "\n",
    "runner = RecipeToNote(\n",
    "    scraper=SpiderScraper(params=spider_config),\n",
    "    schema_extraction_provider=AzureOpenAI(\n",
    "        azure_endpoint=os.getenv(\"AZURE_OPENAI_ENDPOINT\"),\n",
    "        api_key=os.getenv(\"AZURE_OPENAI_KEY\"),\n",
    "        azure_deployment=os.getenv(\"AZURE_OPENAI_DEPLOYMENT\"),\n",
    "        api_version=os.getenv(\"AZURE_OPENAI_API_VERSION\"),\n",
    "    ),\n",
    "    notes_app=NotionNotesApp(database_name=\"Przepisy\")\n",
    ")"
   ]
  },
  {
   "cell_type": "code",
   "execution_count": 2,
   "id": "8f9e3aa0",
   "metadata": {},
   "outputs": [],
   "source": [
    "#url = 'https://www.kwestiasmaku.com/desery/ciasta/czekoladowe_brownie/przepis.html'\n",
    "url = 'https://aniagotuje.pl/przepis/ciasteczka-z-maslem-orzechowym'\n",
    "\n",
    "runner.url(url)"
   ]
  },
  {
   "cell_type": "code",
   "execution_count": null,
   "id": "43d81daf",
   "metadata": {},
   "outputs": [],
   "source": [
    "await runner.run()"
   ]
  },
  {
   "cell_type": "code",
   "execution_count": 3,
   "id": "c06d60d2",
   "metadata": {},
   "outputs": [
    {
     "name": "stderr",
     "output_type": "stream",
     "text": [
      "2025-08-17 02:45:30,959 - recipes_to_notes.plugins.scraping.spider - INFO - Scraping https://aniagotuje.pl/przepis/ciasteczka-z-maslem-orzechowym\n",
      "2025-08-17 02:45:31,667 - recipes_to_notes.plugins.scraping.spider - INFO - Scraped 1 documents from https://aniagotuje.pl/przepis/ciasteczka-z-maslem-orzechowym\n"
     ]
    }
   ],
   "source": [
    "await runner.scrape()"
   ]
  },
  {
   "cell_type": "code",
   "execution_count": 4,
   "id": "2a675e77",
   "metadata": {},
   "outputs": [
    {
     "ename": "KeyError",
     "evalue": "'source'",
     "output_type": "error",
     "traceback": [
      "\u001b[31m---------------------------------------------------------------------------\u001b[39m",
      "\u001b[31mKeyError\u001b[39m                                  Traceback (most recent call last)",
      "\u001b[36mCell\u001b[39m\u001b[36m \u001b[39m\u001b[32mIn[4]\u001b[39m\u001b[32m, line 1\u001b[39m\n\u001b[32m----> \u001b[39m\u001b[32m1\u001b[39m \u001b[38;5;28;01mawait\u001b[39;00m runner.extract_schema()\n",
      "\u001b[36mFile \u001b[39m\u001b[32m~/code/recipes-to-notes/src/recipes_to_notes/runner.py:39\u001b[39m, in \u001b[36mRecipeToNote.extract_schema\u001b[39m\u001b[34m(self)\u001b[39m\n\u001b[32m     38\u001b[39m \u001b[38;5;28;01masync\u001b[39;00m \u001b[38;5;28;01mdef\u001b[39;00m\u001b[38;5;250m \u001b[39m\u001b[34mextract_schema\u001b[39m(\u001b[38;5;28mself\u001b[39m) -> \u001b[38;5;28;01mNone\u001b[39;00m:\n\u001b[32m---> \u001b[39m\u001b[32m39\u001b[39m     \u001b[38;5;28mself\u001b[39m.extracted_schema = \u001b[38;5;28;01mawait\u001b[39;00m extract_schema(\u001b[38;5;28mself\u001b[39m.model, \u001b[38;5;28mself\u001b[39m.documents)\n",
      "\u001b[36mFile \u001b[39m\u001b[32m~/code/recipes-to-notes/src/recipes_to_notes/schema_extraction.py:68\u001b[39m, in \u001b[36mextract_schema\u001b[39m\u001b[34m(model, documents)\u001b[39m\n\u001b[32m     61\u001b[39m prompt = ChatPromptTemplate.from_messages([\n\u001b[32m     62\u001b[39m     (\u001b[33m\"\u001b[39m\u001b[33msystem\u001b[39m\u001b[33m\"\u001b[39m, SYSTEM_PROMPT),\n\u001b[32m     63\u001b[39m     (\u001b[33m\"\u001b[39m\u001b[33muser\u001b[39m\u001b[33m\"\u001b[39m, \u001b[33m\"\u001b[39m\u001b[38;5;132;01m{document}\u001b[39;00m\u001b[33m\"\u001b[39m),\n\u001b[32m     64\u001b[39m ])\n\u001b[32m     66\u001b[39m chain = prompt | extraction_model\n\u001b[32m---> \u001b[39m\u001b[32m68\u001b[39m logger.info(\u001b[33mf\u001b[39m\u001b[33m\"\u001b[39m\u001b[33mExtracting schema from \u001b[39m\u001b[38;5;132;01m{\u001b[39;00m\u001b[43mdocuments\u001b[49m\u001b[43m[\u001b[49m\u001b[32;43m0\u001b[39;49m\u001b[43m]\u001b[49m\u001b[43m.\u001b[49m\u001b[43mmetadata\u001b[49m\u001b[43m[\u001b[49m\u001b[33;43m'\u001b[39;49m\u001b[33;43msource\u001b[39;49m\u001b[33;43m'\u001b[39;49m\u001b[43m]\u001b[49m\u001b[38;5;132;01m}\u001b[39;00m\u001b[33m\"\u001b[39m)\n\u001b[32m     69\u001b[39m recipe = \u001b[38;5;28;01mawait\u001b[39;00m chain.ainvoke({\u001b[33m\"\u001b[39m\u001b[33mdocument\u001b[39m\u001b[33m\"\u001b[39m: document})\n\u001b[32m     70\u001b[39m logger.info(\u001b[33mf\u001b[39m\u001b[33m\"\u001b[39m\u001b[33mExtracted schema from \u001b[39m\u001b[38;5;132;01m{\u001b[39;00mdocuments[\u001b[32m0\u001b[39m].metadata[\u001b[33m'\u001b[39m\u001b[33msource\u001b[39m\u001b[33m'\u001b[39m]\u001b[38;5;132;01m}\u001b[39;00m\u001b[33m\"\u001b[39m)\n",
      "\u001b[31mKeyError\u001b[39m: 'source'"
     ]
    }
   ],
   "source": [
    "await runner.extract_schema()"
   ]
  }
 ],
 "metadata": {
  "kernelspec": {
   "display_name": ".venv",
   "language": "python",
   "name": "python3"
  },
  "language_info": {
   "codemirror_mode": {
    "name": "ipython",
    "version": 3
   },
   "file_extension": ".py",
   "mimetype": "text/x-python",
   "name": "python",
   "nbconvert_exporter": "python",
   "pygments_lexer": "ipython3",
   "version": "3.13.5"
  }
 },
 "nbformat": 4,
 "nbformat_minor": 5
}
