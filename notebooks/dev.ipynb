{
 "cells": [
  {
   "cell_type": "code",
   "execution_count": 1,
   "id": "0f15a884",
   "metadata": {},
   "outputs": [],
   "source": [
    "from dotenv import load_dotenv\n",
    "from recipes_to_notes.runner import RecipeToNote\n",
    "from recipes_to_notes.plugins.scraping.spider import SpiderScraper\n",
    "from recipes_to_notes.plugins.schema_extraction.azure_openai import AzureOpenAI\n",
    "from recipes_to_notes.plugins.notes.notion import NotionNotesApp\n",
    "import os\n",
    "\n",
    "load_dotenv()\n",
    "\n",
    "spider_config = {\n",
    "    \"request\": \"smart\",\n",
    "    \"return_format\": \"markdown\",\n",
    "    \"readability\": True,\n",
    "}\n",
    "\n",
    "runner = RecipeToNote(\n",
    "    scraper=SpiderScraper(params=spider_config),\n",
    "    schema_extraction_provider=AzureOpenAI(\n",
    "        azure_endpoint=os.getenv(\"AZURE_OPENAI_ENDPOINT\"),\n",
    "        api_key=os.getenv(\"AZURE_OPENAI_KEY\"),\n",
    "        azure_deployment=os.getenv(\"AZURE_OPENAI_DEPLOYMENT\"),\n",
    "        api_version=os.getenv(\"AZURE_OPENAI_API_VERSION\"),\n",
    "    ),\n",
    "    notes_app=NotionNotesApp(database_name=\"Przepisy\")\n",
    ")"
   ]
  },
  {
   "cell_type": "code",
   "execution_count": 2,
   "id": "8f9e3aa0",
   "metadata": {},
   "outputs": [],
   "source": [
    "#url = 'https://www.kwestiasmaku.com/desery/ciasta/czekoladowe_brownie/przepis.html'\n",
    "url = 'https://aniagotuje.pl/przepis/ciasteczka-z-maslem-orzechowym'\n",
    "\n",
    "runner.url(url)"
   ]
  },
  {
   "cell_type": "code",
   "execution_count": 3,
   "id": "43d81daf",
   "metadata": {},
   "outputs": [
    {
     "name": "stderr",
     "output_type": "stream",
     "text": [
      "2025-08-17 02:27:47,287 - httpx - INFO - HTTP Request: POST https://az-oai-digital-code-ai.openai.azure.com/openai/deployments/gpt-4.1/chat/completions?api-version=2025-04-01-preview \"HTTP/1.1 200 OK\"\n",
      "2025-08-17 02:27:47,721 - httpx - INFO - HTTP Request: POST https://api.notion.com/v1/databases/251a7bde-534d-8048-af2d-e7c6cf396b1e/query \"HTTP/1.1 200 OK\"\n",
      "2025-08-17 02:27:47,722 - recipes_to_notes.plugins.notes.notion - INFO - Creating new page 'Ciasteczka z masłem orzechowym'\n",
      "2025-08-17 02:27:49,021 - httpx - INFO - HTTP Request: POST https://api.notion.com/v1/pages \"HTTP/1.1 200 OK\"\n",
      "2025-08-17 02:27:49,024 - recipes_to_notes.plugins.notes.notion - INFO - Successfully created Notion page: 252a7bde-534d-81fb-83ca-d6d09b9efad8\n"
     ]
    }
   ],
   "source": [
    "await runner.run()"
   ]
  }
 ],
 "metadata": {
  "kernelspec": {
   "display_name": ".venv",
   "language": "python",
   "name": "python3"
  },
  "language_info": {
   "codemirror_mode": {
    "name": "ipython",
    "version": 3
   },
   "file_extension": ".py",
   "mimetype": "text/x-python",
   "name": "python",
   "nbconvert_exporter": "python",
   "pygments_lexer": "ipython3",
   "version": "3.13.5"
  }
 },
 "nbformat": 4,
 "nbformat_minor": 5
}
