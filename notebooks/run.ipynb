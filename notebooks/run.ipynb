{
 "cells": [
  {
   "cell_type": "code",
   "execution_count": null,
   "id": "0ce23719",
   "metadata": {},
   "outputs": [],
   "source": [
    "from dotenv import load_dotenv\n",
    "from recipes_to_notes.runner import RecipeToNote\n",
    "from recipes_to_notes.plugins.scraping.spider import SpiderScraper\n",
    "from recipes_to_notes.plugins.schema_extraction.azure_openai import AzureOpenAI\n",
    "from recipes_to_notes.plugins.notes.notion import NotionNotesApp\n",
    "import os\n",
    "\n",
    "load_dotenv()"
   ]
  },
  {
   "cell_type": "markdown",
   "id": "93baa82c",
   "metadata": {},
   "source": [
    "# Plugins config"
   ]
  },
  {
   "cell_type": "code",
   "execution_count": null,
   "id": "0f15a884",
   "metadata": {},
   "outputs": [],
   "source": [
    "spider_config = {\n",
    "    \"request\": \"smart\",\n",
    "    \"return_format\": \"markdown\",\n",
    "    \"readability\": True,\n",
    "    \"metadata\": True,\n",
    "}\n",
    "\n",
    "openai_config = {\n",
    "    \"azure_endpoint\": os.getenv(\"AZURE_OPENAI_ENDPOINT\"),\n",
    "    \"api_key\": os.getenv(\"AZURE_OPENAI_KEY\"),\n",
    "    \"azure_deployment\": os.getenv(\"AZURE_OPENAI_DEPLOYMENT\"),\n",
    "    \"api_version\": os.getenv(\"AZURE_OPENAI_API_VERSION\"),\n",
    "}\n",
    "\n",
    "notion_config = {\n",
    "    \"database_name\": \"Przepisy\",\n",
    "    \"language\": \"pl\"\n",
    "}\n",
    "\n",
    "runner = RecipeToNote(\n",
    "    scraper=SpiderScraper(params=spider_config),\n",
    "    schema_extraction_provider=AzureOpenAI(**openai_config),\n",
    "    notes_app=NotionNotesApp(**notion_config),\n",
    ")"
   ]
  },
  {
   "cell_type": "markdown",
   "id": "000b521e",
   "metadata": {},
   "source": [
    "# Enter URL and run"
   ]
  },
  {
   "cell_type": "code",
   "execution_count": null,
   "id": "8f9e3aa0",
   "metadata": {},
   "outputs": [],
   "source": [
    "url = \"<URL to scrape goes here>\"\n",
    "runner.url(url)"
   ]
  },
  {
   "cell_type": "code",
   "execution_count": null,
   "id": "9edd47f7",
   "metadata": {},
   "outputs": [],
   "source": [
    "await runner.run()"
   ]
  }
 ],
 "metadata": {
  "kernelspec": {
   "display_name": ".venv",
   "language": "python",
   "name": "python3"
  },
  "language_info": {
   "codemirror_mode": {
    "name": "ipython",
    "version": 3
   },
   "file_extension": ".py",
   "mimetype": "text/x-python",
   "name": "python",
   "nbconvert_exporter": "python",
   "pygments_lexer": "ipython3",
   "version": "3.13.5"
  }
 },
 "nbformat": 4,
 "nbformat_minor": 5
}
