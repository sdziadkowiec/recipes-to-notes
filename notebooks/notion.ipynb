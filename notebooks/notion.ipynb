{
 "cells": [
  {
   "cell_type": "code",
   "execution_count": null,
   "id": "803b6860",
   "metadata": {},
   "outputs": [],
   "source": [
    "from recipes_to_notes.plugins.notes.notion import NotionNotesApp\n",
    "import json\n",
    "\n",
    "notion = NotionNotesApp(database_name=\"Przepisy\")\n",
    "\n",
    "print(notion.database_id)"
   ]
  },
  {
   "cell_type": "code",
   "execution_count": null,
   "id": "5f72276f",
   "metadata": {},
   "outputs": [],
   "source": [
    "test = await notion.client.search(query=\"Przepisy\",filter={\"property\": \"object\", \"value\": \"database\"})"
   ]
  },
  {
   "cell_type": "code",
   "execution_count": null,
   "id": "491e329f",
   "metadata": {},
   "outputs": [],
   "source": [
    "print(len(test['results']))\n",
    "print(json.dumps(test['results'][0], indent=2, ensure_ascii=False))"
   ]
  }
 ],
 "metadata": {
  "kernelspec": {
   "display_name": ".venv",
   "language": "python",
   "name": "python3"
  },
  "language_info": {
   "codemirror_mode": {
    "name": "ipython",
    "version": 3
   },
   "file_extension": ".py",
   "mimetype": "text/x-python",
   "name": "python",
   "nbconvert_exporter": "python",
   "pygments_lexer": "ipython3",
   "version": "3.13.5"
  }
 },
 "nbformat": 4,
 "nbformat_minor": 5
}
